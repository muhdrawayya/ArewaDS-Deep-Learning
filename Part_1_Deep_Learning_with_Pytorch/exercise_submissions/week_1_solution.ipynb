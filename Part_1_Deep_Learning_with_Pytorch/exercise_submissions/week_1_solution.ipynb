{
  "nbformat": 4,
  "nbformat_minor": 0,
  "metadata": {
    "colab": {
      "provenance": [],
      "gpuType": "T4"
    },
    "kernelspec": {
      "name": "python3",
      "display_name": "Python 3"
    },
    "language_info": {
      "name": "python"
    },
    "accelerator": "GPU"
  },
  "cells": [
    {
      "cell_type": "markdown",
      "source": [
        "# **Arewa Data Science Academy**"
      ],
      "metadata": {
        "id": "Wuj232vbrKHB"
      }
    },
    {
      "cell_type": "markdown",
      "source": [
        "Deep Learning Cohort 2.0"
      ],
      "metadata": {
        "id": "yrORZbqGrQLK"
      }
    },
    {
      "cell_type": "markdown",
      "source": [
        "Name: Muhammad Usman"
      ],
      "metadata": {
        "id": "MXuipoGtrXbS"
      }
    },
    {
      "cell_type": "markdown",
      "source": [
        "Email: muhdusman10@gmail.com"
      ],
      "metadata": {
        "id": "nOuAyDmOrh3A"
      }
    },
    {
      "cell_type": "markdown",
      "source": [
        "Title: Week 1 Solution"
      ],
      "metadata": {
        "id": "x9UiJch5rrlD"
      }
    },
    {
      "cell_type": "code",
      "source": [
        "import torch"
      ],
      "metadata": {
        "id": "BXfiEZ6nrWr9"
      },
      "execution_count": 2,
      "outputs": []
    },
    {
      "cell_type": "markdown",
      "source": [
        "2. Create a random tensor with shape (7, 7)"
      ],
      "metadata": {
        "id": "-kHXOLe8sxBh"
      }
    },
    {
      "cell_type": "code",
      "source": [
        "rand_tensor = torch.rand(7,7)\n",
        "rand_tensor"
      ],
      "metadata": {
        "colab": {
          "base_uri": "https://localhost:8080/"
        },
        "id": "3qVsB-daszDj",
        "outputId": "6dc691c5-b2c1-4015-8fef-1bb6d8140119"
      },
      "execution_count": 3,
      "outputs": [
        {
          "output_type": "execute_result",
          "data": {
            "text/plain": [
              "tensor([[0.5362, 0.7528, 0.6229, 0.7769, 0.8767, 0.7265, 0.4424],\n",
              "        [0.1526, 0.0598, 0.7117, 0.8732, 0.2854, 0.1635, 0.3282],\n",
              "        [0.7477, 0.1201, 0.1408, 0.3239, 0.0961, 0.1050, 0.8404],\n",
              "        [0.9965, 0.5522, 0.2830, 0.8900, 0.9790, 0.5597, 0.3179],\n",
              "        [0.4130, 0.2971, 0.9447, 0.1780, 0.7127, 0.8098, 0.0870],\n",
              "        [0.5657, 0.3037, 0.2129, 0.2652, 0.8263, 0.2953, 0.8951],\n",
              "        [0.4613, 0.8359, 0.8679, 0.7914, 0.0174, 0.7693, 0.9970]])"
            ]
          },
          "metadata": {},
          "execution_count": 3
        }
      ]
    },
    {
      "cell_type": "markdown",
      "source": [
        "3. Perform a matrix multiplication on the tensor from 2 with another random tensor with shape (1, 7) (hint: you may have to transpose the second tensor)."
      ],
      "metadata": {
        "id": "KK5il8X1tCpu"
      }
    },
    {
      "cell_type": "code",
      "source": [
        "rand_tensor2 = torch.rand(1,7)\n",
        "rand_tensor2"
      ],
      "metadata": {
        "colab": {
          "base_uri": "https://localhost:8080/"
        },
        "id": "kk6VtUTPtKJZ",
        "outputId": "dbaba3dd-60ee-419f-9d06-47a2b11eed06"
      },
      "execution_count": 4,
      "outputs": [
        {
          "output_type": "execute_result",
          "data": {
            "text/plain": [
              "tensor([[0.7379, 0.0837, 0.5617, 0.2984, 0.8114, 0.2743, 0.8154]])"
            ]
          },
          "metadata": {},
          "execution_count": 4
        }
      ]
    },
    {
      "cell_type": "code",
      "source": [
        "# Matrix multiplication and transpoding rand tensor 2\n",
        "result = torch.matmul(rand_tensor, rand_tensor2.T)\n",
        "result"
      ],
      "metadata": {
        "colab": {
          "base_uri": "https://localhost:8080/"
        },
        "id": "qUDkejlkwazo",
        "outputId": "4d873ec6-50d1-47ec-d98f-594080792df1"
      },
      "execution_count": 5,
      "outputs": [
        {
          "output_type": "execute_result",
          "data": {
            "text/plain": [
              "tensor([[2.3117],\n",
              "        [1.3220],\n",
              "        [1.5295],\n",
              "        [2.4133],\n",
              "        [1.7847],\n",
              "        [2.1228],\n",
              "        [2.1722]])"
            ]
          },
          "metadata": {},
          "execution_count": 5
        }
      ]
    },
    {
      "cell_type": "markdown",
      "source": [
        "4. Set the random seed to 0 and do 2 & 3 over again."
      ],
      "metadata": {
        "id": "Lgfw7hwMwkRv"
      }
    },
    {
      "cell_type": "code",
      "source": [
        "# Set manual seed\n",
        "torch.manual_seed(0)\n",
        "\n",
        "rand_tensor_1 = torch.rand(7, 7)\n",
        "rand_tensor_2 = torch.rand(1, 7)\n",
        "\n",
        "# Matrix multiply tensors\n",
        "result1 = torch.matmul(rand_tensor_1, rand_tensor_2.T)\n",
        "result1"
      ],
      "metadata": {
        "colab": {
          "base_uri": "https://localhost:8080/"
        },
        "id": "QRAJnSI992mZ",
        "outputId": "498bb0cb-0587-473e-9f21-1e4b3376ce28"
      },
      "execution_count": 6,
      "outputs": [
        {
          "output_type": "execute_result",
          "data": {
            "text/plain": [
              "tensor([[1.8542],\n",
              "        [1.9611],\n",
              "        [2.2884],\n",
              "        [3.0481],\n",
              "        [1.7067],\n",
              "        [2.5290],\n",
              "        [1.7989]])"
            ]
          },
          "metadata": {},
          "execution_count": 6
        }
      ]
    },
    {
      "cell_type": "markdown",
      "source": [
        "5. Speaking of random seeds, we saw how to set it with torch.manual_seed() but is there a GPU equivalent? (hint: you'll need to look into the documentation for torch.cuda for this one)"
      ],
      "metadata": {
        "id": "IqsfLsct-Zhw"
      }
    },
    {
      "cell_type": "code",
      "source": [
        "# prompt: Speaking of random seeds, we saw how to set it with torch.manual_seed() but is there a GPU equivalent? (hint: you'll need to look into the documentation for torch.cuda for this one)\n",
        "\n",
        "if torch.cuda.is_available():\n",
        "    torch.cuda.manual_seed(0)\n",
        "    print(\"GPU available and seed set\")\n",
        "else:\n",
        "    print(\"GPU not available\")"
      ],
      "metadata": {
        "colab": {
          "base_uri": "https://localhost:8080/"
        },
        "id": "Krm-McRXBujv",
        "outputId": "cc2e7b93-96ec-447f-c93f-98bbf36713fe"
      },
      "execution_count": 7,
      "outputs": [
        {
          "output_type": "stream",
          "name": "stdout",
          "text": [
            "GPU available and seed set\n"
          ]
        }
      ]
    },
    {
      "cell_type": "markdown",
      "source": [
        "6. Create two random tensors of shape (2, 3) and send them both to the GPU (you'll need access to a GPU for this). Set torch.manual_seed(1234) when creating the tensors (this doesn't have to be the GPU random seed). The output should be something like:\n"
      ],
      "metadata": {
        "id": "mndhvmYkFEhP"
      }
    },
    {
      "cell_type": "code",
      "source": [
        "# Set the random seed for reproducibility\n",
        "torch.manual_seed(1234)\n",
        "\n",
        "# Create two random tensors of shape (2, 3)\n",
        "tensor1 = torch.randn(2, 3)\n",
        "tensor2 = torch.randn(2, 3)\n",
        "\n",
        "# Check if a CUDA device (GPU) is available\n",
        "device = torch.device(\"cuda\" if torch.cuda.is_available() else \"cpu\")\n",
        "\n",
        "# Move the tensors to the GPU (if available)\n",
        "tensor1 = tensor1.to(device)\n",
        "tensor2 = tensor2.to(device)\n",
        "\n",
        "# Print the tensors\n",
        "print(\"Device:\", device)\n",
        "print(tensor1, tensor2)\n"
      ],
      "metadata": {
        "colab": {
          "base_uri": "https://localhost:8080/"
        },
        "id": "er9iFCBzdGCG",
        "outputId": "c05b100d-25a7-49b5-cd9b-de4c82f3361b"
      },
      "execution_count": 8,
      "outputs": [
        {
          "output_type": "stream",
          "name": "stdout",
          "text": [
            "Device: cuda\n",
            "tensor([[ 0.0461,  0.4024, -1.0115],\n",
            "        [ 0.2167, -0.6123,  0.5036]], device='cuda:0') tensor([[ 0.2310,  0.6931, -0.2669],\n",
            "        [ 2.1785,  0.1021, -0.2590]], device='cuda:0')\n"
          ]
        }
      ]
    },
    {
      "cell_type": "markdown",
      "source": [
        "7. Perform a matrix multiplication on the tensors you created in 6 (again, you may have to adjust the shapes of one of the tensors)."
      ],
      "metadata": {
        "id": "8VWno2EJfEdT"
      }
    },
    {
      "cell_type": "code",
      "source": [
        "# Check if a CUDA device (GPU) is available\n",
        "device2 = torch.device(\"cuda\" if torch.cuda.is_available() else \"cpu\")\n",
        "\n",
        "# Move the tensors to the GPU (if available)\n",
        "tensor1 = tensor1.to(device2)\n",
        "tensor2 = tensor2.to(device2)\n",
        "\n",
        "# Perform matrix multiplication.  We need to transpose the second tensor\n",
        "# to make the dimensions compatible.\n",
        "result2 = torch.matmul(tensor1, tensor2.T)\n",
        "\n",
        "# Print the result\n",
        "print(result2, result2.shape)"
      ],
      "metadata": {
        "colab": {
          "base_uri": "https://localhost:8080/"
        },
        "id": "xx3dY1g4iRLL",
        "outputId": "f0e29ab9-04f5-46bb-be06-3cde2e8432c2"
      },
      "execution_count": 11,
      "outputs": [
        {
          "output_type": "stream",
          "name": "stdout",
          "text": [
            "tensor([[ 0.5595,  0.4036],\n",
            "        [-0.5087,  0.2792]], device='cuda:0') torch.Size([2, 2])\n"
          ]
        }
      ]
    },
    {
      "cell_type": "markdown",
      "source": [
        "8. Find the maximum and minimum values of the output of 7.\n"
      ],
      "metadata": {
        "id": "S0LpGI1NmRUZ"
      }
    },
    {
      "cell_type": "code",
      "source": [
        "# Create a sample tensor\n",
        "tensor = torch.tensor([[1, 2, 3], [4, 5, 6]])\n",
        "\n",
        "# Find the maximum value\n",
        "max_value = torch.max(tensor).item()\n",
        "print(\"Maximum value:\", max_value)\n",
        "\n",
        "# Find the minimum value\n",
        "min_value = torch.min(tensor).item()\n",
        "print(\"Minimum value:\", min_value)\n"
      ],
      "metadata": {
        "colab": {
          "base_uri": "https://localhost:8080/"
        },
        "id": "yJoBJQ8dm-c2",
        "outputId": "a2892f08-690f-4d2c-e489-99765178c9c0"
      },
      "execution_count": 13,
      "outputs": [
        {
          "output_type": "stream",
          "name": "stdout",
          "text": [
            "Maximum value: 6\n",
            "Minimum value: 1\n"
          ]
        }
      ]
    },
    {
      "cell_type": "markdown",
      "source": [
        "Find the maximum and minimum index values of the output of 7."
      ],
      "metadata": {
        "id": "ZVnsGX_MnLVd"
      }
    },
    {
      "cell_type": "code",
      "source": [
        "# Find arg max\n",
        "max_index = torch.argmax(tensor)\n",
        "print(\"Maximum index:\", max_index)\n",
        "\n",
        "# Find arg min\n",
        "min_index = torch.argmin(tensor)\n",
        "print(\"Minimum index:\", min_index)\n",
        "\n"
      ],
      "metadata": {
        "colab": {
          "base_uri": "https://localhost:8080/"
        },
        "id": "M_VJ3vemnVP4",
        "outputId": "aca864d8-d338-4fdc-f68c-da3f14396676"
      },
      "execution_count": 14,
      "outputs": [
        {
          "output_type": "stream",
          "name": "stdout",
          "text": [
            "Maximum index: tensor(5)\n",
            "Minimum index: tensor(0)\n"
          ]
        }
      ]
    },
    {
      "cell_type": "markdown",
      "source": [
        "10. Make a random tensor with shape (1, 1, 1, 10) and then create a new tensor with all the 1 dimensions removed to be left with a tensor of shape (10). Set the seed to 7 when you create it and print out the first tensor and it's shape as well as the second tensor and it's shape."
      ],
      "metadata": {
        "id": "5rbh8H_MoPiW"
      }
    },
    {
      "cell_type": "code",
      "source": [
        "# Set seed\n",
        "torch.manual_seed(7)\n",
        "\n",
        "\n",
        "# Create random tensor\n",
        "tensor_rand = torch.randn(1, 1, 1, 10)\n",
        "\n",
        "# Print the first tensor and its shape\n",
        "print(\"Tensor 1:\")\n",
        "print(tensor_rand)\n",
        "print(\"Shape:\", tensor_rand.shape)\n",
        "\n",
        "\n",
        "\n",
        "# Remove single dimensions\n",
        "tensor_remove = tensor_rand.squeeze()\n",
        "\n",
        "\n",
        "# Print out tensors and their shapes\n",
        "print(\"\\nTensor 2:\")\n",
        "print(tensor_remove)\n",
        "print(\"Shape:\", tensor_remove.shape)\n"
      ],
      "metadata": {
        "colab": {
          "base_uri": "https://localhost:8080/"
        },
        "id": "svNsxfQTqQtN",
        "outputId": "009432c9-5f0f-4fc7-b766-08c2d562e181"
      },
      "execution_count": 16,
      "outputs": [
        {
          "output_type": "stream",
          "name": "stdout",
          "text": [
            "Tensor 1:\n",
            "tensor([[[[-0.1468,  0.7861,  0.9468, -1.1143,  1.6908, -0.8948, -0.3556,\n",
            "            1.2324,  0.1382, -1.6822]]]])\n",
            "Shape: torch.Size([1, 1, 1, 10])\n",
            "\n",
            "Tensor 2:\n",
            "tensor([-0.1468,  0.7861,  0.9468, -1.1143,  1.6908, -0.8948, -0.3556,  1.2324,\n",
            "         0.1382, -1.6822])\n",
            "Shape: torch.Size([10])\n"
          ]
        }
      ]
    }
  ]
}